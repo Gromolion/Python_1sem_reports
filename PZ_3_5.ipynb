{
  "nbformat": 4,
  "nbformat_minor": 0,
  "metadata": {
    "colab": {
      "name": "PZ_3-5.ipynb",
      "provenance": [],
      "authorship_tag": "ABX9TyNZZqi1LSl1p9Q0nXUGOmWP",
      "include_colab_link": true
    },
    "kernelspec": {
      "name": "python3",
      "display_name": "Python 3"
    },
    "language_info": {
      "name": "python"
    }
  },
  "cells": [
    {
      "cell_type": "markdown",
      "metadata": {
        "id": "view-in-github",
        "colab_type": "text"
      },
      "source": [
        "<a href=\"https://colab.research.google.com/github/Gromolion/Python_1sem_reports/blob/master/PZ_3_5.ipynb\" target=\"_parent\"><img src=\"https://colab.research.google.com/assets/colab-badge.svg\" alt=\"Open In Colab\"/></a>"
      ]
    },
    {
      "cell_type": "markdown",
      "source": [
        "PZ_3"
      ],
      "metadata": {
        "id": "vhofDuDeWlgo"
      }
    },
    {
      "cell_type": "code",
      "execution_count": 2,
      "metadata": {
        "colab": {
          "base_uri": "https://localhost:8080/"
        },
        "id": "J36MdVVbWaUS",
        "outputId": "5d553ee2-4daa-4316-c70a-8ce32c9e8633"
      },
      "outputs": [
        {
          "output_type": "stream",
          "name": "stdout",
          "text": [
            "Введите координаты X и Y через пробел: -3 15\n",
            "Точка с координатами (-3, 15) лежит во второй координатной четверти - True\n"
          ]
        }
      ],
      "source": [
        "#программа для проверки, лежит ли точка с заданными координатами во второй четверти\n",
        "x, y = input('Введите координаты X и Y через пробел: ').split()\n",
        "\n",
        "while type(x) != int or type(y) != int:\n",
        "    #входим в цикл, только если x или y не являются числами\n",
        "\n",
        "    try:\n",
        "        x = int(x)\n",
        "        y = int(y)\n",
        "\n",
        "    except ValueError:\n",
        "        x, y = input('X или Y не является числом. Введите координаты заново: ').split()\n",
        "\n",
        "print(f'Точка с координатами ({x}, {y}) лежит во второй координатной четверти -', True if x < 0 and y > 0 else False)"
      ]
    },
    {
      "cell_type": "markdown",
      "source": [
        "PZ_4"
      ],
      "metadata": {
        "id": "ONnqCui6WuY-"
      }
    },
    {
      "cell_type": "code",
      "source": [
        "#программа выводит на экран последовательность целых чисел от a до b(включая b) и количество этих чисел\n",
        "a, b = input('Введите целые цисла a и b (a < b): ').split()\n",
        "\n",
        "while type(a) != int or type(b) != int or a > b:\n",
        "#обработка исключений\n",
        "    try:\n",
        "        a = int(a)\n",
        "        b = int(b)\n",
        "\n",
        "        if a > b:\n",
        "            print('a > b')\n",
        "            a, b = input('Введите a и b заново: ').split()\n",
        "\n",
        "    except ValueError:\n",
        "        print('a или b не целые цисла')\n",
        "        a, b = input('Введите a и b заново: ').split()\n",
        "\n",
        "c = 0\n",
        "for i in range(a, b + 1):\n",
        "#выводит на экран числа в порядке возрастания от a до b(включая b), попутно считая количество этих чисел\n",
        "    print(i)\n",
        "    c += 1\n",
        "\n",
        "print(f'Количество чисел: {c}')\n"
      ],
      "metadata": {
        "colab": {
          "base_uri": "https://localhost:8080/"
        },
        "id": "YVAEVId_Ww-T",
        "outputId": "c91d3db5-e00c-4ead-d20c-628d04f0fdab"
      },
      "execution_count": 3,
      "outputs": [
        {
          "output_type": "stream",
          "name": "stdout",
          "text": [
            "Введите целые цисла a и b (a < b): 3 7\n",
            "3\n",
            "4\n",
            "5\n",
            "6\n",
            "7\n",
            "Количество чисел: 5\n"
          ]
        }
      ]
    },
    {
      "cell_type": "markdown",
      "source": [
        "PZ_5"
      ],
      "metadata": {
        "id": "dGrQB1pHW4sQ"
      }
    },
    {
      "cell_type": "code",
      "source": [
        "# программа находит сумму чисел ряда 1, 2, 3, 4, ... от числа n до m\n",
        "def summa(x, y):\n",
        "    return sum([i for i in range(x, y + 1)])\n",
        "    # мы генерируем список с элементами от x до y и используем\n",
        "    # функцию sum() для получения суммы элементов списка и возвращаем её\n",
        "\n",
        "\n",
        "n, m = input('Введите числа n и m: ').split()\n",
        "\n",
        "while type(n) != int or type(m) != int:\n",
        "    # обработка исключений\n",
        "    try:\n",
        "        n = int(n)\n",
        "        m = int(m)\n",
        "    except ValueError:\n",
        "        n, m = input('Одно из значений не является числом. Введите числа n и m заново: ').split()\n",
        "\n",
        "print('Сумма чисел от n до m:', summa(n, m))"
      ],
      "metadata": {
        "colab": {
          "base_uri": "https://localhost:8080/"
        },
        "id": "Ki-kA4XiW5n_",
        "outputId": "2a9d96f5-efaf-45b5-cc07-38b950a86360"
      },
      "execution_count": 4,
      "outputs": [
        {
          "output_type": "stream",
          "name": "stdout",
          "text": [
            "Введите числа n и m: 5 15\n",
            "Сумма чисел от n до m: 110\n"
          ]
        }
      ]
    }
  ]
}